{
  "cells": [
    {
      "cell_type": "markdown",
      "metadata": {
        "id": "view-in-github",
        "colab_type": "text"
      },
      "source": [
        "<a href=\"https://colab.research.google.com/github/CakeLiar/pingmate/blob/main/Ping_Simulation.ipynb\" target=\"_parent\"><img src=\"https://colab.research.google.com/assets/colab-badge.svg\" alt=\"Open In Colab\"/></a>"
      ]
    },
    {
      "cell_type": "code",
      "execution_count": null,
      "metadata": {
        "colab": {
          "background_save": true
        },
        "id": "NeuSFl_U7jTx"
      },
      "outputs": [],
      "source": [
        "import numpy as np\n",
        "import random\n",
        "import matplotlib.pyplot as plt\n",
        "import math"
      ]
    },
    {
      "cell_type": "code",
      "execution_count": null,
      "metadata": {
        "colab": {
          "background_save": true
        },
        "id": "b9dR0OeLDUeL"
      },
      "outputs": [],
      "source": [
        "# Constants\n",
        "\n",
        "N = 5  # initial number of users\n",
        "Ninc = 2 # user increase rate\n",
        "Nacc = 1 # user increase of increase rate\n",
        "\n",
        "initialHappiness = 10\n",
        "happinessDecrease = 1\n",
        "happinessIncrease = 2\n",
        "happinessIncreaseRecieved = 5\n",
        "\n",
        "pingProbability = .1\n",
        "addFriendProbability = .5\n",
        "\n",
        "initialPingPoints = 12\n",
        "increasePingPoints = 1.5\n",
        "decreasePingPoints = 1"
      ]
    },
    {
      "cell_type": "code",
      "execution_count": null,
      "metadata": {
        "colab": {
          "background_save": true
        },
        "id": "k2DqdyRi5KIl"
      },
      "outputs": [],
      "source": [
        "class User:\n",
        "    friendList = []\n",
        "    pingPoints = 0\n",
        "    happiness = 0\n",
        "    deleted = False\n",
        "\n",
        "    def __init__ (self) :\n",
        "        self.friendList = []\n",
        "        self.pingPoints = initialPingPoints\n",
        "        self.happiness = initialHappiness\n",
        "        deleted = False\n",
        "\n",
        "    def ping (self, other, _) :\n",
        "        other.pingPoints += increasePingPoints\n",
        "        self.pingPoints -= decreasePingPoints\n",
        "        other.happiness+=happinessIncreaseRecieved/np.log(_+1) # (/np.log(_+1)) represents boredom\n",
        "        self.happiness+=happinessIncrease/np.log(_+1) # (/np.log(_+1)) represents boredom\n",
        "\n",
        "    def addFriend(self, other):\n",
        "        self.friendList.append(other)\n",
        "users = []"
      ]
    },
    {
      "cell_type": "code",
      "execution_count": null,
      "metadata": {
        "colab": {
          "background_save": true
        },
        "id": "IXU6O8RNEFt6"
      },
      "outputs": [],
      "source": [
        "# Build the environment\n",
        "\n",
        "users.clear()\n",
        "\n",
        "for i in range(N):\n",
        "  users.append(User())\n",
        "\n",
        "\n",
        "for i in range(N):\n",
        "  for j in range(N-i):\n",
        "    if (random.random() < addFriendProbability):\n",
        "      users[i+j].addFriend(users[i])\n",
        "      users[i].addFriend(users[j+i])"
      ]
    },
    {
      "cell_type": "code",
      "execution_count": null,
      "metadata": {
        "colab": {
          "background_save": true,
          "base_uri": "https://localhost:8080/"
        },
        "id": "bG6o4tdS57Eq",
        "outputId": "9a81ad8c-004c-407f-b07c-5caedcbafda9"
      },
      "outputs": [
        {
          "name": "stdout",
          "output_type": "stream",
          "text": [
            "5\n",
            "7\n",
            "7\n",
            "10\n",
            "10\n",
            "15\n",
            "15\n",
            "23\n",
            "23\n",
            "35\n",
            "35\n",
            "52\n",
            "52\n",
            "75\n",
            "75\n",
            "105\n",
            "105\n",
            "143\n",
            "143\n",
            "190\n",
            "190\n",
            "247\n",
            "247\n",
            "315\n",
            "315\n",
            "395\n",
            "395\n",
            "488\n",
            "488\n",
            "595\n",
            "595\n",
            "717\n",
            "717\n",
            "855\n",
            "855\n",
            "1010\n",
            "1010\n",
            "1183\n",
            "1183\n",
            "1375\n"
          ]
        }
      ],
      "source": [
        "# Run the simulation\n",
        "\n",
        "ping_means = []\n",
        "happiness_means = []\n",
        "Ns = []\n",
        "\n",
        "_ = 0\n",
        "hasPoints = True\n",
        "while (hasPoints and _< 20):\n",
        "  _ = _+1\n",
        "\n",
        "  hasPoints = False\n",
        "\n",
        "\n",
        "  print(N)\n",
        "  for i in range(Ninc) :\n",
        "    users.append(User())\n",
        "    N += 1\n",
        "  Ninc += Nacc\n",
        "  Nacc+= 1\n",
        "\n",
        "  print(N)\n",
        "\n",
        "  sig = 0\n",
        "\n",
        "  Ns.append(N)\n",
        "\n",
        "  for user in users:\n",
        "    if (user.happiness > 0):\n",
        "      sig += user.happiness\n",
        "  happiness_means.append(sig/N)\n",
        "\n",
        "\n",
        "  sig = 0\n",
        "  for user in users:\n",
        "    if (user.pingPoints > 0):\n",
        "      sig += user.pingPoints\n",
        "  ping_means.append(sig/N)\n",
        "\n",
        "  for i in range(N):\n",
        "    users[i].happiness-=happinessDecrease\n",
        "\n",
        "    if (users[i].deleted or users[i].happiness<=0):\n",
        "      users[i].deleted = True\n",
        "      pass\n",
        "\n",
        "    if (users[i].pingPoints > 0):\n",
        "      hasPoints = True\n",
        "\n",
        "    for j in range(N):\n",
        "\n",
        "      if (users[j].deleted):\n",
        "        pass\n",
        "      rr = random.random()\n",
        "      if (rr <= pingProbability/np.log(_+1)) : # (/np.log(_+1)) represents boredom\n",
        "        users[i].ping(users[j], _)"
      ]
    },
    {
      "cell_type": "code",
      "execution_count": null,
      "metadata": {
        "colab": {
          "background_save": true
        },
        "id": "Nv1ZuZ_L7Ah1",
        "outputId": "93b56d23-d50a-477b-c993-cc57ae223c7d"
      },
      "outputs": [
        {
          "data": {
            "image/png": "[encoded data removed]",
            "text/plain": [
              "<Figure size 432x288 with 1 Axes>"
            ]
          },
          "metadata": {},
          "output_type": "display_data"
        }
      ],
      "source": [
        "plt.plot(happiness_means, label='happiness')\n",
        "plt.plot(ping_means, label='points')\n",
        "plt.plot(Ns, label='users')\n",
        "plt.legend()\n",
        "plt.show()"
      ]
    },
    {
      "cell_type": "code",
      "execution_count": null,
      "metadata": {
        "id": "EctnzNxuKF0x"
      },
      "outputs": [],
      "source": []
    }
  ],
  "metadata": {
    "colab": {
      "provenance": [],
      "authorship_tag": "ABX9TyMlj6bbpmMnU7JEp5u4Gw2E",
      "include_colab_link": true
    },
    "kernelspec": {
      "display_name": "Python 3",
      "name": "python3"
    },
    "language_info": {
      "name": "python"
    }
  },
  "nbformat": 4,
  "nbformat_minor": 0
}